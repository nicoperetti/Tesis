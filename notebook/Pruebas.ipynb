{
 "cells": [
  {
   "cell_type": "code",
   "execution_count": 9,
   "metadata": {},
   "outputs": [],
   "source": [
    "import numpy as np\n",
    "import spacy\n",
    "from collections import Counter, defaultdict\n",
    "from sklearn.preprocessing import normalize\n",
    "import settings\n",
    "import json\n",
    "from tags import *"
   ]
  },
  {
   "cell_type": "code",
   "execution_count": 10,
   "metadata": {},
   "outputs": [],
   "source": [
    "data = json.load(open('data/coco_noun.tags'))"
   ]
  },
  {
   "cell_type": "code",
   "execution_count": 3,
   "metadata": {},
   "outputs": [],
   "source": [
    "nlp = spacy.load(settings.SPACY_MODEL)\n",
    "extractor = NounTags(nlp, alpha=1)"
   ]
  },
  {
   "cell_type": "markdown",
   "metadata": {},
   "source": [
    "# Example"
   ]
  },
  {
   "cell_type": "code",
   "execution_count": 4,
   "metadata": {},
   "outputs": [
    {
     "data": {
      "text/plain": [
       "['A man preparing desserts in a kitchen covered in frosting.',\n",
       " 'A chef is preparing and decorating many small pastries.',\n",
       " 'A baker prepares various types of baked goods.',\n",
       " 'a close up of a person grabbing a pastry in a container',\n",
       " 'Close up of a hand touching various pastries.']"
      ]
     },
     "execution_count": 4,
     "metadata": {},
     "output_type": "execute_result"
    }
   ],
   "source": [
    "id_ = '384029'\n",
    "caption_list = data['train2014'][id_]['captions']\n",
    "caption_list"
   ]
  },
  {
   "cell_type": "code",
   "execution_count": 5,
   "metadata": {},
   "outputs": [
    {
     "name": "stdout",
     "output_type": "stream",
     "text": [
      "Tags: ['pastry', 'frosting', 'hand', 'good', 'man', 'type', 'close', 'container', 'kitchen', 'baker', 'chef', 'person', 'dessert']\n",
      "rlocs: [0.2, 0.06667, 0.06667, 0.06667, 0.06667, 0.06667, 0.06667, 0.06667, 0.06667, 0.06667, 0.06667, 0.06667, 0.06667]\n"
     ]
    }
   ],
   "source": [
    "tags, rlocs = extractor.process(caption_list)\n",
    "print(\"Tags: {}\".format(tags))\n",
    "print(\"rlocs: {}\".format([round(r, 5) for r in rlocs]))"
   ]
  },
  {
   "cell_type": "markdown",
   "metadata": {},
   "source": [
    "## Merged"
   ]
  },
  {
   "cell_type": "code",
   "execution_count": 6,
   "metadata": {},
   "outputs": [],
   "source": [
    "captions = [nlp(c) for c in caption_list]"
   ]
  },
  {
   "cell_type": "code",
   "execution_count": 7,
   "metadata": {},
   "outputs": [
    {
     "name": "stdout",
     "output_type": "stream",
     "text": [
      "Aligned tokens: {('pastry', 'NOUN'): {pastry, pastries, pastries}, ('prepare', 'VERB'): {preparing, preparing, prepares}}\n"
     ]
    }
   ],
   "source": [
    "token_dict = defaultdict(set)\n",
    "for sent in captions:\n",
    "    for token in sent:\n",
    "        if token.pos_ in ['NOUN', 'VERB']:\n",
    "            token_dict[token.lemma_, token.pos_].add(token)\n",
    "token_dict = dict(token_dict)\n",
    "\n",
    "for k in list(token_dict):\n",
    "    if len(token_dict[k]) == 1:\n",
    "        del token_dict[k]\n",
    "print('Aligned tokens: {}'.format(token_dict))"
   ]
  },
  {
   "cell_type": "code",
   "execution_count": 8,
   "metadata": {},
   "outputs": [
    {
     "name": "stdout",
     "output_type": "stream",
     "text": [
      "Aligned children: {(('prepare', 'VERB'), 'nsubj'): {chef, baker}, (('prepare', 'VERB'), 'dobj'): {types, desserts}}\n"
     ]
    }
   ],
   "source": [
    "# build children token dict indexed by syntactic function\n",
    "child_dict = defaultdict(set)\n",
    "for k, tokens in token_dict.items():\n",
    "    for token in tokens:\n",
    "        for ctoken in token.children:\n",
    "            if ctoken.pos_ in ['NOUN', 'VERB']:\n",
    "                child_dict[k, ctoken.dep_].add(ctoken)\n",
    "child_dict = dict(child_dict)\n",
    "\n",
    "# keep only repeated children\n",
    "for k in list(child_dict):\n",
    "    if len(child_dict[k]) == 1:\n",
    "        del child_dict[k]\n",
    "\n",
    "print('Aligned children: {}'.format(child_dict))"
   ]
  },
  {
   "cell_type": "code",
   "execution_count": 66,
   "metadata": {},
   "outputs": [
    {
     "name": "stdout",
     "output_type": "stream",
     "text": [
      "Final tags: pastry frosting good baker person container dessert kitchen man hand close\n",
      "Final rlocs: [3.0, 1.0, 1.0, 1.0, 1.0, 1.0, 1.0, 1.0, 1.0, 1.0, 1.0]\n"
     ]
    }
   ],
   "source": [
    "remove_idxs = set()\n",
    "for tokens in child_dict.values():\n",
    "    idxs = set(tags.index(t.lemma_) for t in tokens if t.lemma_ in tags)\n",
    "    remove_idxs.update(sorted(idxs)[1:])\n",
    "\n",
    "new_tags = [t for i, t in enumerate(tags) if i not in remove_idxs]\n",
    "new_rlocs = [r for i, r in enumerate(rlocs) if i not in remove_idxs]\n",
    "\n",
    "print('Final tags: {}'.format(' '.join(new_tags)))\n",
    "print('Final rlocs: {}'.format(new_rlocs))"
   ]
  },
  {
   "cell_type": "code",
   "execution_count": 50,
   "metadata": {},
   "outputs": [
    {
     "data": {
      "text/plain": [
       "A man preparing desserts in a kitchen covered in frosting."
      ]
     },
     "execution_count": 50,
     "metadata": {},
     "output_type": "execute_result"
    }
   ],
   "source": [
    "c1 = captions[0]\n",
    "c1"
   ]
  },
  {
   "cell_type": "code",
   "execution_count": 64,
   "metadata": {},
   "outputs": [
    {
     "name": "stdout",
     "output_type": "stream",
     "text": [
      "          man                              \n",
      "  _________|_________                       \n",
      " |   |           preparing                 \n",
      " |   |      _________|________              \n",
      " |   |     |                  in           \n",
      " |   |     |                  |             \n",
      " |   |     |               kitchen         \n",
      " |   |     |          ________|_______      \n",
      " |   |     |         |             covered \n",
      " |   |     |         |                |     \n",
      " |   |     |         |                in   \n",
      " |   |     |         |                |     \n",
      " A   .  desserts     a             frosting\n",
      "\n",
      "        preparing                           \n",
      "  __________|___________________             \n",
      " |   |      |      |        decorating      \n",
      " |   |      |      |            |            \n",
      " |   |      |     chef       pastries       \n",
      " |   |      |      |     _______|________    \n",
      " is and     .      A   many            small\n",
      "\n",
      "    prepares                    \n",
      "  _____|_______________          \n",
      " |     |             types      \n",
      " |     |         ______|_____    \n",
      " |     |        |            of \n",
      " |     |        |            |   \n",
      " |   baker      |          goods\n",
      " |     |        |            |   \n",
      " .     A     various       baked\n",
      "\n",
      "           up                          \n",
      "  _________|____                        \n",
      " |    |         of                     \n",
      " |    |         |                       \n",
      " |    |       person                   \n",
      " |    |     ____|_______                \n",
      " |    |    |         grabbing          \n",
      " |    |    |     _______|_________      \n",
      " |    |    |    |                 in   \n",
      " |    |    |    |                 |     \n",
      " |    |    |  pastry          container\n",
      " |    |    |    |                 |     \n",
      " a  close  a    a                 a    \n",
      "\n",
      "       up              \n",
      "   ____|__________      \n",
      "  |    |   of  touching\n",
      "  |    |   |      |     \n",
      "  |    |  hand pastries\n",
      "  |    |   |      |     \n",
      "Close  .   a   various \n",
      "\n"
     ]
    }
   ],
   "source": [
    "from nltk import Tree\n",
    "\n",
    "def to_nltk_tree(node):\n",
    "    if node.n_lefts + node.n_rights > 0:\n",
    "        return Tree(node.orth_, [to_nltk_tree(child) for child in node.children])\n",
    "    else:\n",
    "        return node.orth_\n",
    "\n",
    "for c in captions:\n",
    "    for sent in c.sents:\n",
    "        print()\n",
    "        to_nltk_tree(sent.root).pretty_print()"
   ]
  }
 ],
 "metadata": {
  "kernelspec": {
   "display_name": "Python 3",
   "language": "python",
   "name": "python3"
  },
  "language_info": {
   "codemirror_mode": {
    "name": "ipython",
    "version": 3
   },
   "file_extension": ".py",
   "mimetype": "text/x-python",
   "name": "python",
   "nbconvert_exporter": "python",
   "pygments_lexer": "ipython3",
   "version": "3.5.2"
  }
 },
 "nbformat": 4,
 "nbformat_minor": 2
}
