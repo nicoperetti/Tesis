{
 "cells": [
  {
   "cell_type": "code",
   "execution_count": 2,
   "metadata": {},
   "outputs": [],
   "source": [
    "import json\n",
    "import string \n",
    "import nltk \n",
    "from nltk.tokenize import RegexpTokenizer \n",
    "from nltk.corpus import stopwords \n",
    "import re\n",
    "from random import shuffle\n",
    "from fastText import load_model, train_supervised\n",
    "from tqdm import tqdm"
   ]
  },
  {
   "cell_type": "code",
   "execution_count": 2,
   "metadata": {},
   "outputs": [],
   "source": [
    "def preprocess(sentence): \n",
    "    sentence = sentence.lower() \n",
    "    tokenizer = RegexpTokenizer(r'\\w+') \n",
    "    tokens = tokenizer.tokenize(sentence) \n",
    "    filtered_words = [w for w in tokens if not w in stopwords.words('english')] \n",
    "    return \" \".join(filtered_words)"
   ]
  },
  {
   "cell_type": "markdown",
   "metadata": {},
   "source": [
    "## Loading annotations"
   ]
  },
  {
   "cell_type": "code",
   "execution_count": 4,
   "metadata": {},
   "outputs": [],
   "source": [
    "data = json.load(open('pruebas/coco_noun_alpha_0.0.tags'))"
   ]
  },
  {
   "cell_type": "code",
   "execution_count": 5,
   "metadata": {},
   "outputs": [
    {
     "name": "stdout",
     "output_type": "stream",
     "text": [
      "Train samples: 82783\n",
      "Val samples: 40504\n"
     ]
    }
   ],
   "source": [
    "val = data[\"val2014\"]\n",
    "train = data[\"train2014\"]\n",
    "print(\"Train samples: {}\".format(len(train)))\n",
    "print(\"Val samples: {}\".format(len(val)))"
   ]
  },
  {
   "cell_type": "markdown",
   "metadata": {},
   "source": [
    "## Making fasttext train file "
   ]
  },
  {
   "cell_type": "code",
   "execution_count": 5,
   "metadata": {},
   "outputs": [],
   "source": [
    "with open(\"pruebas/train.txt\", \"w\") as ofile:\n",
    "    for set_ in [\"train2014\", \"val2014\"]:\n",
    "        for id_ in data[set_].keys():\n",
    "            captions = data[set_][id_][\"captions\"]\n",
    "            captions = [preprocess(cap) for cap in captions]\n",
    "            captions = \" \".join(captions)\n",
    "            categories = data[set_][id_][\"tags\"]\n",
    "            categories = [\"_\".join(cat.split()) for cat in categories]\n",
    "            categories = [ \"__label__\" + cat for cat in categories]\n",
    "            categories = \" \".join(categories)\n",
    "            ofile.write(categories + \" \" + captions + \"\\n\")"
   ]
  },
  {
   "cell_type": "code",
   "execution_count": 6,
   "metadata": {},
   "outputs": [],
   "source": [
    "with open(\"pruebas/train.txt\", \"r\") as ifile, open(\"pruebas/shuffle_train.txt\", \"w\") as ofile:\n",
    "    lines = [ line for line in ifile]\n",
    "    shuffle(lines)\n",
    "    for line in lines:\n",
    "        ofile.write(line)"
   ]
  },
  {
   "cell_type": "markdown",
   "metadata": {},
   "source": [
    "## Training fasttext"
   ]
  },
  {
   "cell_type": "markdown",
   "metadata": {},
   "source": [
    "##### fasttext supervised -input ./shuffle_train.txt -epoch 20 -lr 0.2 -loss hs -wordNgrams 1 -verbose 2 -dim 100 -minCount 1 -output out/noun_model_100_1"
   ]
  },
  {
   "cell_type": "markdown",
   "metadata": {},
   "source": [
    "## Make json with tags from fasttext"
   ]
  },
  {
   "cell_type": "code",
   "execution_count": 6,
   "metadata": {},
   "outputs": [],
   "source": [
    "data_fast = data.copy()"
   ]
  },
  {
   "cell_type": "code",
   "execution_count": 11,
   "metadata": {},
   "outputs": [],
   "source": [
    "model = load_model(\"pruebas/out/noun_model_100_1.bin\")"
   ]
  },
  {
   "cell_type": "code",
   "execution_count": 34,
   "metadata": {},
   "outputs": [
    {
     "name": "stderr",
     "output_type": "stream",
     "text": [
      "100%|██████████| 82783/82783 [06:08<00:00, 224.80it/s]\n",
      "100%|██████████| 40504/40504 [02:53<00:00, 233.61it/s]\n"
     ]
    }
   ],
   "source": [
    "k = 10\n",
    "th = 0.0\n",
    "prefix = \"__label__\"\n",
    "for set_ in [\"train2014\", \"val2014\"]:\n",
    "    for id_ in tqdm(data[set_].keys()):\n",
    "        captions = data_fast[set_][id_][\"captions\"]\n",
    "        captions = [preprocess(cap) for cap in captions]\n",
    "        captions = \" \".join(captions)\n",
    "\n",
    "        lab, pro = model.predict(captions, k, th)\n",
    "        lab = [l.replace(prefix, \"\") for l in lab]\n",
    "        pro = list(pro)\n",
    "\n",
    "        data_fast[set_][id_][\"tags\"] = lab\n",
    "        data_fast[set_][id_][\"scores\"] = pro"
   ]
  },
  {
   "cell_type": "code",
   "execution_count": 35,
   "metadata": {},
   "outputs": [],
   "source": [
    "with open(\"pruebas/noun_fasttext_th_0.0.tags\", \"w\") as ofile:\n",
    "    json.dump(data_fast, ofile)"
   ]
  },
  {
   "cell_type": "code",
   "execution_count": null,
   "metadata": {},
   "outputs": [],
   "source": [
    "80 --> coco\n",
    "10977 --> noun"
   ]
  },
  {
   "cell_type": "code",
   "execution_count": 15,
   "metadata": {},
   "outputs": [
    {
     "data": {
      "text/plain": [
       "'man preparing desserts kitchen covered frosting chef preparing decorating many small pastries baker prepares various types baked goods close person grabbing pastry container close hand touching various pastries'"
      ]
     },
     "execution_count": 15,
     "metadata": {},
     "output_type": "execute_result"
    }
   ],
   "source": [
    "captions = data_fast[\"train2014\"][\"384029\"][\"captions\"]\n",
    "captions = [preprocess(cap) for cap in captions]\n",
    "captions = \" \".join(captions)\n",
    "captions"
   ]
  },
  {
   "cell_type": "code",
   "execution_count": 22,
   "metadata": {},
   "outputs": [],
   "source": [
    "lab, pro = model.predict(captions, 10, 0.01)"
   ]
  },
  {
   "cell_type": "code",
   "execution_count": 28,
   "metadata": {},
   "outputs": [
    {
     "data": {
      "text/plain": [
       "['pastry',\n",
       " 'close',\n",
       " 'dessert',\n",
       " 'type',\n",
       " 'frosting',\n",
       " 'person',\n",
       " 'donut',\n",
       " 'container',\n",
       " 'man',\n",
       " 'good']"
      ]
     },
     "execution_count": 28,
     "metadata": {},
     "output_type": "execute_result"
    }
   ],
   "source": [
    "[l.replace(\"__label__\", \"\") for l in lab]"
   ]
  },
  {
   "cell_type": "code",
   "execution_count": 29,
   "metadata": {},
   "outputs": [
    {
     "data": {
      "text/plain": [
       "[0.11727694422006607,\n",
       " 0.10713212192058563,\n",
       " 0.07604345679283142,\n",
       " 0.056507110595703125,\n",
       " 0.05331281200051308,\n",
       " 0.046535227447748184,\n",
       " 0.033007536083459854,\n",
       " 0.02365998737514019,\n",
       " 0.021940473467111588,\n",
       " 0.01893511787056923]"
      ]
     },
     "execution_count": 29,
     "metadata": {},
     "output_type": "execute_result"
    }
   ],
   "source": [
    "list(pro)"
   ]
  },
  {
   "cell_type": "code",
   "execution_count": 12,
   "metadata": {},
   "outputs": [
    {
     "data": {
      "text/plain": [
       "{'captions': ['A man preparing desserts in a kitchen covered in frosting.',\n",
       "  'A chef is preparing and decorating many small pastries.',\n",
       "  'A baker prepares various types of baked goods.',\n",
       "  'a close up of a person grabbing a pastry in a container',\n",
       "  'Close up of a hand touching various pastries.'],\n",
       " 'category_ids': [1, 60, 61],\n",
       " 'category_names': ['cake', 'donut', 'person'],\n",
       " 'file_name': 'COCO_train2014_000000384029.jpg',\n",
       " 'scores': [0.9166666666666666,\n",
       "  0.9090909090909091,\n",
       "  0.9,\n",
       "  0.8888888888888888,\n",
       "  0.7272727272727273,\n",
       "  0.5833333333333333,\n",
       "  0.5555555555555556,\n",
       "  0.5555555555555556,\n",
       "  0.4545454545454546,\n",
       "  0.33333333333333337,\n",
       "  0.2222222222222222,\n",
       "  0.18181818181818177,\n",
       "  0.08333333333333337],\n",
       " 'tags': ['close',\n",
       "  'man',\n",
       "  'chef',\n",
       "  'baker',\n",
       "  'dessert',\n",
       "  'person',\n",
       "  'hand',\n",
       "  'type',\n",
       "  'kitchen',\n",
       "  'pastry',\n",
       "  'good',\n",
       "  'frosting',\n",
       "  'container']}"
      ]
     },
     "execution_count": 12,
     "metadata": {},
     "output_type": "execute_result"
    }
   ],
   "source": [
    "data_fast[\"train2014\"][\"384029\"]"
   ]
  },
  {
   "cell_type": "code",
   "execution_count": 31,
   "metadata": {},
   "outputs": [
    {
     "data": {
      "text/plain": [
       "{'captions': ['A man preparing desserts in a kitchen covered in frosting.',\n",
       "  'A chef is preparing and decorating many small pastries.',\n",
       "  'A baker prepares various types of baked goods.',\n",
       "  'a close up of a person grabbing a pastry in a container',\n",
       "  'Close up of a hand touching various pastries.'],\n",
       " 'category_ids': [1, 60, 61],\n",
       " 'category_names': ['cake', 'donut', 'person'],\n",
       " 'file_name': 'COCO_train2014_000000384029.jpg',\n",
       " 'scores': [0.11727694422006607,\n",
       "  0.10713212192058563,\n",
       "  0.07604345679283142,\n",
       "  0.056507110595703125,\n",
       "  0.05331281200051308,\n",
       "  0.046535227447748184,\n",
       "  0.033007536083459854,\n",
       "  0.02365998737514019,\n",
       "  0.021940473467111588,\n",
       "  0.01893511787056923],\n",
       " 'tags': ['pastry',\n",
       "  'close',\n",
       "  'dessert',\n",
       "  'type',\n",
       "  'frosting',\n",
       "  'person',\n",
       "  'donut',\n",
       "  'container',\n",
       "  'man',\n",
       "  'good']}"
      ]
     },
     "execution_count": 31,
     "metadata": {},
     "output_type": "execute_result"
    }
   ],
   "source": [
    "data_fast[\"train2014\"][\"384029\"]"
   ]
  },
  {
   "cell_type": "markdown",
   "metadata": {},
   "source": [
    "### Check data"
   ]
  },
  {
   "cell_type": "code",
   "execution_count": 14,
   "metadata": {},
   "outputs": [],
   "source": [
    "data = json.load(open('pruebas/noun_fasttext_th_0.0.tags'))"
   ]
  },
  {
   "cell_type": "code",
   "execution_count": 15,
   "metadata": {},
   "outputs": [],
   "source": [
    "for set_ in [\"train2014\", \"val2014\"]:\n",
    "    for id_ in data[set_].keys():\n",
    "        tags = data[set_][id_][\"tags\"]\n",
    "        scores = data[set_][id_][\"scores\"]\n",
    "        if not (sorted(scores, reverse=True) == scores):\n",
    "            print(id_, tags, scores)\n",
    "            break\n",
    "        for t in tags:\n",
    "            if len(t.split()) > 1:\n",
    "                print(id_, data[set_][id_])\n",
    "                raise"
   ]
  },
  {
   "cell_type": "markdown",
   "metadata": {},
   "source": [
    "#### It seem to be sorted --> :/"
   ]
  },
  {
   "cell_type": "markdown",
   "metadata": {},
   "source": [
    "### Amount of tags per sample"
   ]
  },
  {
   "cell_type": "code",
   "execution_count": 9,
   "metadata": {},
   "outputs": [],
   "source": [
    "data = json.load(open('pruebas/coco_noun_alpha_0.0.tags'))"
   ]
  },
  {
   "cell_type": "code",
   "execution_count": 10,
   "metadata": {},
   "outputs": [
    {
     "name": "stdout",
     "output_type": "stream",
     "text": [
      "train2014: 10.096420762716983\n",
      "val2014: 10.055574758048587\n"
     ]
    }
   ],
   "source": [
    "for set_ in [\"train2014\", \"val2014\"]:\n",
    "    me = 0.\n",
    "    n = len(data[set_].keys())\n",
    "    for id_ in data[set_].keys():\n",
    "        tags = data[set_][id_][\"tags\"]\n",
    "        me += len(tags)\n",
    "    me /= n\n",
    "    print(\"{}: {}\".format(set_, me))"
   ]
  },
  {
   "cell_type": "code",
   "execution_count": 26,
   "metadata": {},
   "outputs": [
    {
     "data": {
      "text/plain": [
       "1364"
      ]
     },
     "execution_count": 26,
     "metadata": {},
     "output_type": "execute_result"
    }
   ],
   "source": [
    "len(model.predict(\"cat\",k=2000)[0])"
   ]
  },
  {
   "cell_type": "code",
   "execution_count": 27,
   "metadata": {},
   "outputs": [
    {
     "data": {
      "text/plain": [
       "10977"
      ]
     },
     "execution_count": 27,
     "metadata": {},
     "output_type": "execute_result"
    }
   ],
   "source": [
    "len(model.get_labels())"
   ]
  },
  {
   "cell_type": "code",
   "execution_count": null,
   "metadata": {},
   "outputs": [],
   "source": []
  }
 ],
 "metadata": {
  "kernelspec": {
   "display_name": "Python 3",
   "language": "python",
   "name": "python3"
  },
  "language_info": {
   "codemirror_mode": {
    "name": "ipython",
    "version": 3
   },
   "file_extension": ".py",
   "mimetype": "text/x-python",
   "name": "python",
   "nbconvert_exporter": "python",
   "pygments_lexer": "ipython3",
   "version": "3.5.2"
  }
 },
 "nbformat": 4,
 "nbformat_minor": 2
}
