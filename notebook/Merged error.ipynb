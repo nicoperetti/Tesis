{
 "cells": [
  {
   "cell_type": "code",
   "execution_count": 1,
   "metadata": {},
   "outputs": [],
   "source": [
    "import numpy as np\n",
    "import spacy\n",
    "from collections import Counter, defaultdict\n",
    "from sklearn.preprocessing import normalize\n",
    "import settings\n",
    "import json\n",
    "from tags import *"
   ]
  },
  {
   "cell_type": "code",
   "execution_count": 5,
   "metadata": {},
   "outputs": [],
   "source": [
    "data = json.load(open('data/coco_noun.tags'))\n",
    "nlp = spacy.load(settings.SPACY_MODEL)"
   ]
  },
  {
   "cell_type": "code",
   "execution_count": 10,
   "metadata": {},
   "outputs": [],
   "source": [
    "from nltk import Tree\n",
    "\n",
    "def to_nltk_tree(node):\n",
    "    if node.n_lefts + node.n_rights > 0:\n",
    "        return Tree(node.orth_, [to_nltk_tree(child) for child in node.children])\n",
    "    else:\n",
    "        return node.orth_\n",
    "    \n",
    "def Stree(captions):\n",
    "    for c in captions:\n",
    "        for sent in c.sents:\n",
    "            print()\n",
    "            to_nltk_tree(sent.root).pretty_print()"
   ]
  },
  {
   "cell_type": "markdown",
   "metadata": {},
   "source": [
    "## Example 305991"
   ]
  },
  {
   "cell_type": "markdown",
   "metadata": {},
   "source": [
    "#### Merged ['egg', 'bacon']; ['ham', 'spinach']"
   ]
  },
  {
   "cell_type": "code",
   "execution_count": 6,
   "metadata": {},
   "outputs": [
    {
     "data": {
      "text/plain": [
       "['Plate with breakfast sandwich made with English muffin, egg and ham.',\n",
       " 'a sandwich on a plate on a table',\n",
       " 'A white plate topped with a muffin filled with breakfast food.',\n",
       " 'A sandwich with egg and ham and spinach',\n",
       " 'Two sandwiches on English muffins featuring greens and cheddar cheese on one sandwich and Canadian bacon and an egg on the other sandwich.']"
      ]
     },
     "execution_count": 6,
     "metadata": {},
     "output_type": "execute_result"
    }
   ],
   "source": [
    "id_ = '305991'\n",
    "caption_list = data['train2014'][id_]['captions']\n",
    "caption_list"
   ]
  },
  {
   "cell_type": "code",
   "execution_count": 7,
   "metadata": {},
   "outputs": [],
   "source": [
    "captions = [nlp(c) for c in caption_list]"
   ]
  },
  {
   "cell_type": "code",
   "execution_count": 11,
   "metadata": {
    "scrolled": false
   },
   "outputs": [
    {
     "name": "stdout",
     "output_type": "stream",
     "text": [
      "\n",
      "      Plate                              \n",
      "  ______|________                         \n",
      " |              with                     \n",
      " |               |                        \n",
      " |            sandwich                   \n",
      " |       ________|_______                 \n",
      " |      |               made             \n",
      " |      |                |                \n",
      " |      |               with             \n",
      " |      |                |                \n",
      " |      |              muffin            \n",
      " |      |         _______|_________       \n",
      " |      |        |       |        egg    \n",
      " |      |        |       |      ___|___   \n",
      " .  breakfast English    ,    and     ham\n",
      "\n",
      "\n",
      "    sandwich      \n",
      "  _____|_______    \n",
      " |     on      on \n",
      " |     |       |   \n",
      " |   plate   table\n",
      " |     |       |   \n",
      " a     a       a  \n",
      "\n",
      "\n",
      "          plate                     \n",
      "  __________|_________               \n",
      " |    |     |       topped          \n",
      " |    |     |         |              \n",
      " |    |     |        with           \n",
      " |    |     |         |              \n",
      " |    |     |       muffin          \n",
      " |    |     |     ____|________      \n",
      " |    |     |    |           filled \n",
      " |    |     |    |             |     \n",
      " |    |     |    |            with  \n",
      " |    |     |    |             |     \n",
      " |    |     |    |            food  \n",
      " |    |     |    |             |     \n",
      " A  white   .    a         breakfast\n",
      "\n",
      "\n",
      "    sandwich                 \n",
      "  _____|______                \n",
      " |           with            \n",
      " |            |               \n",
      " |           egg             \n",
      " |      ______|__________     \n",
      " A    and    ham  and spinach\n",
      "\n",
      "\n",
      "                                      sandwiches                                             \n",
      "  ________________________________________|_________________________________                  \n",
      " |   |   |             on                               |                   |                \n",
      " |   |   |             |                                |                   |                 \n",
      " |   |   |          muffins                             |                   |                \n",
      " |   |   |      _______|________                        |                   |                 \n",
      " |   |   |     |            featuring                   on                 egg               \n",
      " |   |   |     |                |                       |                ___|_____            \n",
      " |   |   |     |              greens                 sandwich           |         on         \n",
      " |   |   |     |        ________|_________         _____|________       |         |           \n",
      " |   |   |     |       |                cheese    |     |      bacon    |      sandwich      \n",
      " |   |   |     |       |                  |       |     |        |      |    _____|_______    \n",
      "Two and  .  English   and              cheddar   one   and    Canadian  an the          other\n",
      "\n"
     ]
    }
   ],
   "source": [
    "Stree(captions)"
   ]
  },
  {
   "cell_type": "markdown",
   "metadata": {},
   "source": [
    "## Example 1639 merged ['surfboard', 'wave']"
   ]
  },
  {
   "cell_type": "markdown",
   "metadata": {},
   "source": [
    "#### {(('board', 'NOUN'), 'compound'): {surf, surf}, (('rid', 'VERB'), 'dobj'): {surfboard, wave}, (('man', 'NOUN'), 'acl'): {riding, standing, riding}}"
   ]
  },
  {
   "cell_type": "code",
   "execution_count": 39,
   "metadata": {},
   "outputs": [
    {
     "data": {
      "text/plain": [
       "['A man riding a wave on top of a surfboard.',\n",
       " 'a man on a surf board rides on a wave ',\n",
       " 'A man riding a surfboard on a wave in the ocean.',\n",
       " 'A man standing on a surfboard riding waves.',\n",
       " 'A man surfs a wave on his surf board.']"
      ]
     },
     "execution_count": 39,
     "metadata": {},
     "output_type": "execute_result"
    }
   ],
   "source": [
    "id_ = '1639'\n",
    "caption_list = data['train2014'][id_]['captions']\n",
    "captions = [nlp(c) for c in caption_list]\n",
    "caption_list"
   ]
  },
  {
   "cell_type": "code",
   "execution_count": 40,
   "metadata": {
    "scrolled": true
   },
   "outputs": [
    {
     "name": "stdout",
     "output_type": "stream",
     "text": [
      "\n",
      "    man                     \n",
      "  ___|________               \n",
      " |   |      riding          \n",
      " |   |        |              \n",
      " |   |       wave           \n",
      " |   |    ____|________      \n",
      " |   |   |             on   \n",
      " |   |   |             |     \n",
      " |   |   |            top   \n",
      " |   |   |             |     \n",
      " |   |   |             of   \n",
      " |   |   |             |     \n",
      " |   |   |         surfboard\n",
      " |   |   |             |     \n",
      " A   .   a             a    \n",
      "\n",
      "\n",
      "        rides          \n",
      "      ____|_________    \n",
      "    man             |  \n",
      "  ___|____          |   \n",
      " |        on        on \n",
      " |        |         |   \n",
      " |      board      wave\n",
      " |    ____|____     |   \n",
      " a   a        surf  a  \n",
      "\n",
      "\n",
      "           man                     \n",
      "  __________|_______                \n",
      " |   |            riding           \n",
      " |   |       _______|_____          \n",
      " |   |      |             on       \n",
      " |   |      |             |         \n",
      " |   |      |            wave      \n",
      " |   |      |        _____|_____    \n",
      " |   |      |       |           in \n",
      " |   |      |       |           |   \n",
      " |   |  surfboard   |         ocean\n",
      " |   |      |       |           |   \n",
      " A   .      a       a          the \n",
      "\n",
      "\n",
      "        man                 \n",
      "  _______|______             \n",
      " |   |       standing       \n",
      " |   |          |            \n",
      " |   |          on          \n",
      " |   |          |            \n",
      " |   |        waves         \n",
      " |   |    ______|_______     \n",
      " A   .   a  surfboard riding\n",
      "\n",
      "\n",
      "        surfs                \n",
      "  ________|____               \n",
      " |   |        wave           \n",
      " |   |     ____|_____         \n",
      " |   |    |          on      \n",
      " |   |    |          |        \n",
      " |  man   |        board     \n",
      " |   |    |     _____|____    \n",
      " .   A    a   his        surf\n",
      "\n"
     ]
    }
   ],
   "source": [
    "Stree(captions)"
   ]
  },
  {
   "cell_type": "markdown",
   "metadata": {},
   "source": [
    "### Example 263823 merged ['ball', 'baseball']"
   ]
  },
  {
   "cell_type": "markdown",
   "metadata": {},
   "source": [
    "##### {(('prepare', 'VERB'), 'nsubj'): {player, player}, (('prepare', 'VERB'), 'xcomp'): {swing, swing}, (('player', 'NOUN'), 'compound'): {baseball, baseball, ball, baseball}}"
   ]
  },
  {
   "cell_type": "code",
   "execution_count": 34,
   "metadata": {},
   "outputs": [
    {
     "data": {
      "text/plain": [
       "['A baseball player prepares to swing at the ball. ',\n",
       " 'A ball player prepares to swing as the umpire and catcher look on.',\n",
       " 'Two baseball players and an umpire during a game.',\n",
       " 'A baseball player getting ready to swing at the ball. ',\n",
       " 'A baseball game is being played with the batter up.']"
      ]
     },
     "execution_count": 34,
     "metadata": {},
     "output_type": "execute_result"
    }
   ],
   "source": [
    "id_ = '263823'\n",
    "caption_list = data['train2014'][id_]['captions']\n",
    "captions = [nlp(c) for c in caption_list]\n",
    "caption_list"
   ]
  },
  {
   "cell_type": "code",
   "execution_count": 35,
   "metadata": {
    "scrolled": true
   },
   "outputs": [
    {
     "name": "stdout",
     "output_type": "stream",
     "text": [
      "\n",
      "               prepares               \n",
      "  ________________|___________         \n",
      " |        |                 swing     \n",
      " |        |               ____|____    \n",
      " |        |              |         at \n",
      " |        |              |         |   \n",
      " |      player           |        ball\n",
      " |    ____|_______       |         |   \n",
      " .   A         baseball  to       the \n",
      "\n",
      "\n",
      "                        prepares                          \n",
      "  _________________________|_______                        \n",
      " |        |                      swing                    \n",
      " |        |           _____________|____                   \n",
      " |        |          |                 look               \n",
      " |        |          |      ____________|_____             \n",
      " |      player       |     |       |        umpire        \n",
      " |    ____|_____     |     |       |     _____|_______     \n",
      " .   A         ball  to    as      on  the   and   catcher\n",
      "\n",
      "\n",
      "             players                      \n",
      "  ______________|______________            \n",
      " |     |        |     |      umpire       \n",
      " |     |        |     |    ____|______     \n",
      " |     |        |     |   |         during\n",
      " |     |        |     |   |           |    \n",
      " |     |        |     |   |          game \n",
      " |     |        |     |   |           |    \n",
      "Two baseball   and    .   an          a   \n",
      "\n",
      "\n",
      "               getting                \n",
      "  ________________|___________         \n",
      " |        |                 ready     \n",
      " |        |                   |        \n",
      " |        |                 swing     \n",
      " |        |               ____|____    \n",
      " |        |              |         at \n",
      " |        |              |         |   \n",
      " |      player           |        ball\n",
      " |    ____|_______       |         |   \n",
      " .   A         baseball  to       the \n",
      "\n",
      "\n",
      "              played                         \n",
      "  ______________|________________________     \n",
      " |    |    |    |         |             with \n",
      " |    |    |    |         |              |    \n",
      " |    |    |    |        game          batter\n",
      " |    |    |    |      ___|______        |    \n",
      " is being  up   .     A       baseball  the  \n",
      "\n"
     ]
    }
   ],
   "source": [
    "Stree(captions)"
   ]
  },
  {
   "cell_type": "markdown",
   "metadata": {},
   "source": [
    "### Example 132725   merged ['bench', 'fence']"
   ]
  },
  {
   "cell_type": "markdown",
   "metadata": {},
   "source": [
    "#### {(('cover', 'VERB'), 'auxpass'): {is, is}, (('cover', 'VERB'), 'dobj'): {fence, bench}} "
   ]
  },
  {
   "cell_type": "code",
   "execution_count": 36,
   "metadata": {},
   "outputs": [
    {
     "data": {
      "text/plain": [
       "['The bench next to the gate is covered in snow. ',\n",
       " 'A snowy bench is isolated in a cold park',\n",
       " 'A wooden benched covered in a bunch of snow.',\n",
       " 'A bench that is covered and standing in snow.',\n",
       " 'A snow covered bench along side a wrought iron fence']"
      ]
     },
     "execution_count": 36,
     "metadata": {},
     "output_type": "execute_result"
    }
   ],
   "source": [
    "id_ = '132725'\n",
    "caption_list = data['train2014'][id_]['captions']\n",
    "captions = [nlp(c) for c in caption_list]\n",
    "caption_list"
   ]
  },
  {
   "cell_type": "code",
   "execution_count": 37,
   "metadata": {
    "scrolled": true
   },
   "outputs": [
    {
     "name": "stdout",
     "output_type": "stream",
     "text": [
      "\n",
      "        covered                \n",
      "  _________|________________    \n",
      " |   |          bench       |  \n",
      " |   |      ______|____     |   \n",
      " |   |     |          next  |  \n",
      " |   |     |           |    |   \n",
      " |   |     |           to   |  \n",
      " |   |     |           |    |   \n",
      " |   |     |          gate  in \n",
      " |   |     |           |    |   \n",
      " is  .    The         the  snow\n",
      "\n",
      "\n",
      "              isolated              \n",
      "  _______________|__________         \n",
      " |        |                 in      \n",
      " |        |                 |        \n",
      " |      bench              park     \n",
      " |    ____|______        ___|____    \n",
      " is  A         snowy    a       cold\n",
      "\n",
      "\n",
      "               covered               \n",
      "  ________________|__________         \n",
      " |        |                  in      \n",
      " |        |                  |        \n",
      " |        |                bunch     \n",
      " |        |              ____|____    \n",
      " |      wooden          |         of \n",
      " |    ____|_______      |         |   \n",
      " .   A         benched  a        snow\n",
      "\n",
      "\n",
      "        bench                     \n",
      "  ________|______                  \n",
      " |   |        covered             \n",
      " |   |     ______|___________      \n",
      " |   |    |      |     |  standing\n",
      " |   |    |      |     |     |     \n",
      " |   |    |      |     |     in   \n",
      " |   |    |      |     |     |     \n",
      " A   .   that    is   and   snow  \n",
      "\n",
      "\n",
      "           covered                 \n",
      "   ___________|___________          \n",
      "  |   snow  along       fence      \n",
      "  |    |      |      _____|_____    \n",
      "bench  A     side   a  wrought iron\n",
      "\n"
     ]
    }
   ],
   "source": [
    "Stree(captions)"
   ]
  },
  {
   "cell_type": "markdown",
   "metadata": {},
   "source": [
    "### Example 284259 merged ['vegetable', 'piece']"
   ]
  },
  {
   "cell_type": "markdown",
   "metadata": {},
   "source": [
    "#### {(('stew', 'NOUN'), 'conj'): {piece, vegetables}}"
   ]
  },
  {
   "cell_type": "code",
   "execution_count": 42,
   "metadata": {},
   "outputs": [
    {
     "data": {
      "text/plain": [
       "['A plate topped with toast, stew and vegetables.',\n",
       " 'A meal of stew, and vegetables sits on a decorated plate.',\n",
       " 'Plate of food with bread, rice, and mixed vegetables. ',\n",
       " 'a plate with veggies, some stew and a piece of flatbread',\n",
       " 'A plate with different vegetables and bread on it.']"
      ]
     },
     "execution_count": 42,
     "metadata": {},
     "output_type": "execute_result"
    }
   ],
   "source": [
    "id_ = '284259'\n",
    "caption_list = data['train2014'][id_]['captions']\n",
    "captions = [nlp(c) for c in caption_list]\n",
    "caption_list"
   ]
  },
  {
   "cell_type": "code",
   "execution_count": 43,
   "metadata": {
    "scrolled": true
   },
   "outputs": [
    {
     "name": "stdout",
     "output_type": "stream",
     "text": [
      "\n",
      "        plate                       \n",
      "  ________|_____                     \n",
      " |   |        topped                \n",
      " |   |          |                    \n",
      " |   |         with                 \n",
      " |   |          |                    \n",
      " |   |        toast                 \n",
      " |   |     _____|_____               \n",
      " |   |    |          stew           \n",
      " |   |    |      _____|_______       \n",
      " A   .    ,    and        vegetables\n",
      "\n",
      "\n",
      "            sits                                    \n",
      "  ___________|_________________________              \n",
      " |          meal                       on           \n",
      " |    _______|_______________          |             \n",
      " |   |   |   |       |       of      plate          \n",
      " |   |   |   |       |       |     ____|_______      \n",
      " .   A   ,  and  vegetables stew  a        decorated\n",
      "\n",
      "\n",
      "         Plate                          \n",
      "  _________|_________                    \n",
      " |   |              with                \n",
      " |   |               |                   \n",
      " |   |             bread                \n",
      " |   |      _________|____               \n",
      " |   |     |             rice           \n",
      " |   |     |     _________|_______       \n",
      " |   of    |    |         |   vegetables\n",
      " |   |     |    |         |       |      \n",
      " .  food   ,    ,        and    mixed   \n",
      "\n",
      "\n",
      "                plate                         \n",
      "  ________________|____                        \n",
      " |   |     |          stew                    \n",
      " |   |     |       ____|_________              \n",
      " |   |     |      |    |       piece          \n",
      " |   |     |      |    |     ____|_______      \n",
      " |   |    with    |    |    |            of   \n",
      " |   |     |      |    |    |            |     \n",
      " a   ,  veggies  some and   a        flatbread\n",
      "\n",
      "\n",
      "          plate                       \n",
      "  __________|_______________________   \n",
      " |   |               with           | \n",
      " |   |                |             |  \n",
      " |   |            vegetables        on\n",
      " |   |       _________|________     |  \n",
      " A   .  different    and     bread  it\n",
      "\n"
     ]
    }
   ],
   "source": [
    "Stree(captions)"
   ]
  },
  {
   "cell_type": "markdown",
   "metadata": {},
   "source": [
    "### Example 525898 merged ['child', 'bot']"
   ]
  },
  {
   "cell_type": "markdown",
   "metadata": {},
   "source": [
    "#### {(('sit', 'VERB'), 'nsubj'): {bot, child}}"
   ]
  },
  {
   "cell_type": "code",
   "execution_count": 44,
   "metadata": {},
   "outputs": [
    {
     "data": {
      "text/plain": [
       "['A boy with a hat on and chocolate on his face near a cake.',\n",
       " 'A child with chocolate on his face sits at a table with a cake with a lit candle on it. ',\n",
       " 'Little boy has picked some chocolate off of a birthday cake.',\n",
       " 'A young boy sitting at a table right next to a cake.',\n",
       " 'A little bot sits at a table as he nibbles on some frosting from a cake. ']"
      ]
     },
     "execution_count": 44,
     "metadata": {},
     "output_type": "execute_result"
    }
   ],
   "source": [
    "id_ = '525898'\n",
    "caption_list = data['train2014'][id_]['captions']\n",
    "captions = [nlp(c) for c in caption_list]\n",
    "caption_list"
   ]
  },
  {
   "cell_type": "code",
   "execution_count": 45,
   "metadata": {
    "scrolled": true
   },
   "outputs": [
    {
     "name": "stdout",
     "output_type": "stream",
     "text": [
      "\n",
      "            boy                    \n",
      "  ___________|___                   \n",
      " |   |          with               \n",
      " |   |           |                  \n",
      " |   |          hat                \n",
      " |   |    _______|______________    \n",
      " |   |   |   |   |   chocolate  |  \n",
      " |   |   |   |   |       |      |   \n",
      " |   |   |   |   |       on    near\n",
      " |   |   |   |   |       |      |   \n",
      " |   |   |   |   |      face   cake\n",
      " |   |   |   |   |       |      |   \n",
      " A   .   a   on and     his     a  \n",
      "\n",
      "\n",
      "                        sits                        \n",
      "  _______________________|____________               \n",
      " |          |            |           with           \n",
      " |          |            |            |              \n",
      " |          |            |           cake           \n",
      " |          |            |     _______|_____         \n",
      " |        child          |    |            with     \n",
      " |    ______|______      |    |             |        \n",
      " |   |      |      on    at   |           candle    \n",
      " |   |      |      |     |    |    _________|_____   \n",
      " |   |     with   face table  |   |         |     on\n",
      " |   |      |      |     |    |   |         |     |  \n",
      " .   A  chocolate his    a    a   a        lit    it\n",
      "\n",
      "\n",
      "        picked                            \n",
      "  ________|___________________             \n",
      " |   |    |        |         off          \n",
      " |   |    |        |          |            \n",
      " |   |    |        |          of          \n",
      " |   |    |        |          |            \n",
      " |   |   boy   chocolate     cake         \n",
      " |   |    |        |       ___|______      \n",
      "has  .  Little    some    a       birthday\n",
      "\n",
      "\n",
      "          boy                        \n",
      "  _________|___________               \n",
      " |    |    |        sitting          \n",
      " |    |    |     ______|_____         \n",
      " |    |    |    |           next     \n",
      " |    |    |    |       _____|____    \n",
      " |    |    |    at     |          to \n",
      " |    |    |    |      |          |   \n",
      " |    |    |  table    |         cake\n",
      " |    |    |    |      |          |   \n",
      " A  young  .    a    right        a  \n",
      "\n",
      "\n",
      "                    sits                               \n",
      "  ___________________|__________                        \n",
      " |       |           |       nibbles                   \n",
      " |       |           |     _____|____________           \n",
      " |       |           |    |     |            on        \n",
      " |       |           |    |     |            |          \n",
      " |       |           |    |     |         frosting     \n",
      " |       |           |    |     |      ______|______    \n",
      " |       |           at   |     |     |            from\n",
      " |       |           |    |     |     |             |   \n",
      " |      bot        table  |     |     |            cake\n",
      " |    ___|____       |    |     |     |             |   \n",
      " .   A      little   a    as    he   some           a  \n",
      "\n"
     ]
    }
   ],
   "source": [
    "Stree(captions)"
   ]
  },
  {
   "cell_type": "code",
   "execution_count": null,
   "metadata": {},
   "outputs": [],
   "source": []
  }
 ],
 "metadata": {
  "kernelspec": {
   "display_name": "Python 3",
   "language": "python",
   "name": "python3"
  },
  "language_info": {
   "codemirror_mode": {
    "name": "ipython",
    "version": 3
   },
   "file_extension": ".py",
   "mimetype": "text/x-python",
   "name": "python",
   "nbconvert_exporter": "python",
   "pygments_lexer": "ipython3",
   "version": "3.5.2"
  }
 },
 "nbformat": 4,
 "nbformat_minor": 2
}
