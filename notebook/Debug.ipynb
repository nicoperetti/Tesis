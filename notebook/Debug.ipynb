{
 "cells": [
  {
   "cell_type": "code",
   "execution_count": 1,
   "metadata": {},
   "outputs": [],
   "source": [
    "from tags import *\n",
    "import spacy"
   ]
  },
  {
   "cell_type": "code",
   "execution_count": 2,
   "metadata": {},
   "outputs": [],
   "source": [
    "nlp = spacy.load(settings.SPACY_MODEL)"
   ]
  },
  {
   "cell_type": "code",
   "execution_count": 3,
   "metadata": {},
   "outputs": [],
   "source": [
    "captions = ['A restaurant has modern wooden tables and chairs.',        \n",
    " 'A long restaurant table with rattan rounded back chairs.',             \n",
    " 'a long table with a plant on top of it surrounded with wooden chairs ',\n",
    " 'A long table with a flower arrangement in the middle for meetings',    \n",
    " 'A table is adorned with wooden chairs with blue accents.']"
   ]
  },
  {
   "cell_type": "code",
   "execution_count": 4,
   "metadata": {},
   "outputs": [],
   "source": [
    "extractor = NounTags(nlp, alpha=0.0, min_count=0, syntactic=False)"
   ]
  },
  {
   "cell_type": "code",
   "execution_count": 5,
   "metadata": {},
   "outputs": [
    {
     "name": "stdout",
     "output_type": "stream",
     "text": [
      "Preprocesss\n",
      "_processs\n"
     ]
    }
   ],
   "source": [
    "tags, counts, rlocs = extractor.preprocess(caption_list=captions)"
   ]
  },
  {
   "cell_type": "code",
   "execution_count": 6,
   "metadata": {},
   "outputs": [
    {
     "name": "stdout",
     "output_type": "stream",
     "text": [
      "['table', 'restaurant', 'plant', 'flower', 'top', 'rattan', 'arrangement', 'chair', 'middle', 'accent', 'meeting']\n",
      "[5, 2, 1, 1, 1, 1, 1, 4, 1, 1, 1]\n",
      "[0.0909, 0.1111, 0.3571, 0.4167, 0.5, 0.5, 0.5, 0.5455, 0.75, 0.8182, 0.9167]\n"
     ]
    }
   ],
   "source": [
    "print(tags)\n",
    "print(counts)\n",
    "print([round(r, 4) for r in rlocs])"
   ]
  },
  {
   "cell_type": "code",
   "execution_count": 7,
   "metadata": {},
   "outputs": [
    {
     "name": "stdout",
     "output_type": "stream",
     "text": [
      "r fuction\n",
      "[0.9090909090909091, 0.8888888888888888, 0.6428571428571428, 0.5833333333333333, 0.5, 0.5, 0.5, 0.4545454545454546, 0.25, 0.18181818181818177, 0.08333333333333337]\n"
     ]
    }
   ],
   "source": [
    "scores = list(extractor.r(counts, rlocs))\n",
    "print(scores)"
   ]
  },
  {
   "cell_type": "code",
   "execution_count": 8,
   "metadata": {},
   "outputs": [
    {
     "name": "stdout",
     "output_type": "stream",
     "text": [
      "Processs\n",
      "Preprocesss\n",
      "_processs\n",
      "['table', 'restaurant', 'plant', 'flower', 'top', 'rattan', 'arrangement', 'chair', 'middle', 'accent', 'meeting']\n",
      "r fuction\n",
      "#######\n",
      "['table', 'restaurant', 'plant', 'flower', 'top', 'rattan', 'arrangement', 'chair', 'middle', 'accent', 'meeting']\n",
      "[0.9090909090909091, 0.8888888888888888, 0.6428571428571428, 0.5833333333333333, 0.5, 0.5, 0.5, 0.4545454545454546, 0.25, 0.18181818181818177, 0.08333333333333337]\n"
     ]
    }
   ],
   "source": [
    "tags_, score_ = extractor.process(caption_list=captions)\n",
    "print(tags_)\n",
    "print(score_)"
   ]
  }
 ],
 "metadata": {
  "kernelspec": {
   "display_name": "Python 3",
   "language": "python",
   "name": "python3"
  },
  "language_info": {
   "codemirror_mode": {
    "name": "ipython",
    "version": 3
   },
   "file_extension": ".py",
   "mimetype": "text/x-python",
   "name": "python",
   "nbconvert_exporter": "python",
   "pygments_lexer": "ipython3",
   "version": "3.5.2"
  }
 },
 "nbformat": 4,
 "nbformat_minor": 2
}
