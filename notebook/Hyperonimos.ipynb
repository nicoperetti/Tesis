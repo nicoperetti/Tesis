{
 "cells": [
  {
   "cell_type": "code",
   "execution_count": 1,
   "metadata": {},
   "outputs": [],
   "source": [
    "import numpy as np\n",
    "import spacy\n",
    "from collections import Counter, defaultdict\n",
    "from sklearn.preprocessing import normalize\n",
    "import settings\n",
    "import json\n",
    "from nltk.corpus import wordnet as wn\n",
    "from nltk import Tree"
   ]
  },
  {
   "cell_type": "code",
   "execution_count": 2,
   "metadata": {},
   "outputs": [],
   "source": [
    "def to_nltk_tree(node):\n",
    "    if node.n_lefts + node.n_rights > 0:\n",
    "        return Tree(node.orth_, [to_nltk_tree(child) for child in node.children])\n",
    "    else:\n",
    "        return node.orth_"
   ]
  },
  {
   "cell_type": "code",
   "execution_count": 3,
   "metadata": {},
   "outputs": [],
   "source": [
    "data = json.load(open('data/coco_noun.tags'))\n",
    "nlp = spacy.load(settings.SPACY_MODEL)"
   ]
  },
  {
   "cell_type": "code",
   "execution_count": 68,
   "metadata": {},
   "outputs": [
    {
     "data": {
      "text/plain": [
       "['A woman on waterskis is towed across a lake. ',\n",
       " 'A young lady rides water skis on a lake',\n",
       " 'A woman in a blue vest is water skiing',\n",
       " 'A young woman in a bikini and life jacket waterskiing.',\n",
       " 'A woman in a bikini riding water skis while being towed by a boat.']"
      ]
     },
     "execution_count": 68,
     "metadata": {},
     "output_type": "execute_result"
    }
   ],
   "source": [
    "#id_ = '384029'\n",
    "id_ = \"352211\"\n",
    "caption_list = data['train2014'][id_]['captions']\n",
    "captions = [nlp(c) for c in caption_list]\n",
    "caption_list"
   ]
  },
  {
   "cell_type": "code",
   "execution_count": 69,
   "metadata": {
    "scrolled": true
   },
   "outputs": [
    {
     "name": "stdout",
     "output_type": "stream",
     "text": [
      "        towed                       \n",
      "  ________|_____________________     \n",
      " |   |        woman           across\n",
      " |   |     _____|_______        |    \n",
      " |   |    |             on     lake \n",
      " |   |    |             |       |    \n",
      " is  .    A         waterskis   a   \n",
      "\n",
      "None\n",
      "         rides           \n",
      "      _____|__________    \n",
      "     |           |    on \n",
      "     |           |    |   \n",
      "    lady        skis lake\n",
      "  ___|_____      |    |   \n",
      " A       young water  a  \n",
      "\n",
      "None\n",
      "           is             \n",
      "       ____|__________     \n",
      "    woman             |   \n",
      "  ____|____           |    \n",
      " |         in         |   \n",
      " |         |          |    \n",
      " |        vest      skiing\n",
      " |     ____|____      |    \n",
      " A    a        blue water \n",
      "\n",
      "None\n",
      "          woman                            \n",
      "  __________|____________                   \n",
      " |    |     |            in                \n",
      " |    |     |            |                  \n",
      " |    |     |       waterskiing            \n",
      " |    |     |     _______|________          \n",
      " |    |     |    |              jacket     \n",
      " |    |     |    |                |         \n",
      " |    |     |    |              bikini     \n",
      " |    |     |    |        ________|_____    \n",
      " A  young   .    a      and            life\n",
      "\n",
      "None\n",
      "                   woman                        \n",
      "  ___________________|__________________         \n",
      " |   |        |                       towed     \n",
      " |   |        |                    _____|____    \n",
      " |   |        in                  |     |    by \n",
      " |   |        |                   |     |    |   \n",
      " |   |       skis                 |     |   boat\n",
      " |   |    ____|_____________      |     |    |   \n",
      " A   .   a  bikini riding water while being  a  \n",
      "\n",
      "None\n"
     ]
    }
   ],
   "source": [
    "for c in captions:\n",
    "    for sent in c.sents:\n",
    "        print(to_nltk_tree(sent.root).pretty_print())"
   ]
  },
  {
   "cell_type": "code",
   "execution_count": 6,
   "metadata": {},
   "outputs": [
    {
     "name": "stdout",
     "output_type": "stream",
     "text": [
      "A det man NOUN []\n",
      "man ROOT man NOUN [A, preparing, .]\n",
      "preparing acl man NOUN [desserts, in]\n",
      "desserts dobj preparing VERB []\n",
      "in prep preparing VERB [kitchen]\n",
      "a det kitchen NOUN []\n",
      "kitchen pobj in ADP [a, covered]\n",
      "covered acl kitchen NOUN [in]\n",
      "in prep covered VERB [frosting]\n",
      "frosting pobj in ADP []\n",
      ". punct man NOUN []\n"
     ]
    }
   ],
   "source": [
    "doc = captions[0]\n",
    "for token in doc:\n",
    "    print(token.text, token.dep_, token.head.text, token.head.pos_,\n",
    "          [child for child in token.children])"
   ]
  },
  {
   "cell_type": "markdown",
   "metadata": {},
   "source": [
    "## Person Normalization"
   ]
  },
  {
   "cell_type": "code",
   "execution_count": null,
   "metadata": {
    "scrolled": true
   },
   "outputs": [],
   "source": []
  },
  {
   "cell_type": "code",
   "execution_count": null,
   "metadata": {},
   "outputs": [],
   "source": []
  },
  {
   "cell_type": "code",
   "execution_count": null,
   "metadata": {},
   "outputs": [],
   "source": []
  },
  {
   "cell_type": "code",
   "execution_count": 6,
   "metadata": {},
   "outputs": [
    {
     "name": "stdout",
     "output_type": "stream",
     "text": [
      "[Synset('person.n.01'), Synset('person.n.02'), Synset('person.n.03')]\n",
      "Synset('person.n.01') [Synset('person.n.01'), Synset('person.n.02'), Synset('person.n.03')]\n",
      "Synset('person.n.01') [Synset('person.n.01'), Synset('person.n.02'), Synset('person.n.03')]\n"
     ]
    }
   ],
   "source": [
    "print(wn.synsets('person'))\n",
    "ps = wn.synsets('person')\n",
    "s = wn.synsets('chef')[0]\n",
    "hyper = s.hypernym_paths()\n",
    "for path in hyper:\n",
    "    for syn in path:\n",
    "        if syn in ps:\n",
    "            print(syn, ps)"
   ]
  },
  {
   "cell_type": "code",
   "execution_count": 70,
   "metadata": {},
   "outputs": [
    {
     "name": "stdout",
     "output_type": "stream",
     "text": [
      "['A woman on waterskis is towed across a lake. ', 'A young lady rides water skis on a lake', 'A woman in a blue vest is water skiing', 'A young woman in a bikini and life jacket waterskiing.', 'A woman in a bikini riding water skis while being towed by a boat.']\n",
      "woman\n",
      "lady\n",
      "woman\n",
      "woman\n",
      "woman\n",
      "['A person on waterskis is towed across a lake. ', 'A young person rides water skis on a lake', 'A person in a blue vest is water skiing', 'A young person in a bikini and life jacket waterskiing.', 'A person in a bikini riding water skis while being towed by a boat.']\n"
     ]
    }
   ],
   "source": [
    "print(caption_list)\n",
    "cl = caption_list\n",
    "ps = wn.synsets('person')\n",
    "for i, cap in enumerate(captions): # each caption\n",
    "    for j, token in enumerate(cap): # each token\n",
    "        if len(wn.synsets(token.text)) > 0: # be sure that token has synset\n",
    "            syn_token = wn.synsets(token.text)[0] # get the first synset\n",
    "            path = syn_token.hypernym_paths() #get all the path from tte synset token\n",
    "            for p in path: # iterate each path\n",
    "                for syn in p: # each synset in path\n",
    "                    if syn in ps:\n",
    "                        print(token.text)\n",
    "                        cl[i] = cl[i].replace(token.text, \"person\")\n",
    "                        break\n",
    "                break\n",
    "print(cl)"
   ]
  },
  {
   "cell_type": "code",
   "execution_count": 71,
   "metadata": {},
   "outputs": [],
   "source": [
    "captions2 = [nlp(c) for c in cl]"
   ]
  },
  {
   "cell_type": "code",
   "execution_count": 72,
   "metadata": {
    "scrolled": true
   },
   "outputs": [
    {
     "name": "stdout",
     "output_type": "stream",
     "text": [
      "        towed                        \n",
      "  ________|______________________     \n",
      " |   |        person           across\n",
      " |   |     _____|________        |    \n",
      " |   |    |              on     lake \n",
      " |   |    |              |       |    \n",
      " is  .    A          waterskis   a   \n",
      "\n",
      "None\n",
      "           rides           \n",
      "       ______|__________    \n",
      "      |            |    on \n",
      "      |            |    |   \n",
      "    person        skis lake\n",
      "  ____|______      |    |   \n",
      " A         young water  a  \n",
      "\n",
      "None\n",
      "            is             \n",
      "       _____|__________     \n",
      "    person             |   \n",
      "  ____|_____           |    \n",
      " |          in         |   \n",
      " |          |          |    \n",
      " |         vest      skiing\n",
      " |     _____|____      |    \n",
      " A    a         blue water \n",
      "\n",
      "None\n",
      "          person                            \n",
      "  __________|_____________                   \n",
      " |    |     |             in                \n",
      " |    |     |             |                  \n",
      " |    |     |        waterskiing            \n",
      " |    |     |      _______|________          \n",
      " |    |     |     |              jacket     \n",
      " |    |     |     |                |         \n",
      " |    |     |     |              bikini     \n",
      " |    |     |     |        ________|_____    \n",
      " A  young   .     a      and            life\n",
      "\n",
      "None\n",
      "                   person                       \n",
      "  ___________________|__________________         \n",
      " |   |        |                       towed     \n",
      " |   |        |                    _____|____    \n",
      " |   |        in                  |     |    by \n",
      " |   |        |                   |     |    |   \n",
      " |   |       skis                 |     |   boat\n",
      " |   |    ____|_____________      |     |    |   \n",
      " A   .   a  bikini riding water while being  a  \n",
      "\n",
      "None\n"
     ]
    }
   ],
   "source": [
    "for c in captions2:\n",
    "    for sent in c.sents:\n",
    "        print(to_nltk_tree(sent.root).pretty_print())"
   ]
  },
  {
   "cell_type": "code",
   "execution_count": 73,
   "metadata": {
    "scrolled": true
   },
   "outputs": [
    {
     "name": "stdout",
     "output_type": "stream",
     "text": [
      "        towed                       \n",
      "  ________|_____________________     \n",
      " |   |        woman           across\n",
      " |   |     _____|_______        |    \n",
      " |   |    |             on     lake \n",
      " |   |    |             |       |    \n",
      " is  .    A         waterskis   a   \n",
      "\n",
      "None\n",
      "         rides           \n",
      "      _____|__________    \n",
      "     |           |    on \n",
      "     |           |    |   \n",
      "    lady        skis lake\n",
      "  ___|_____      |    |   \n",
      " A       young water  a  \n",
      "\n",
      "None\n",
      "           is             \n",
      "       ____|__________     \n",
      "    woman             |   \n",
      "  ____|____           |    \n",
      " |         in         |   \n",
      " |         |          |    \n",
      " |        vest      skiing\n",
      " |     ____|____      |    \n",
      " A    a        blue water \n",
      "\n",
      "None\n",
      "          woman                            \n",
      "  __________|____________                   \n",
      " |    |     |            in                \n",
      " |    |     |            |                  \n",
      " |    |     |       waterskiing            \n",
      " |    |     |     _______|________          \n",
      " |    |     |    |              jacket     \n",
      " |    |     |    |                |         \n",
      " |    |     |    |              bikini     \n",
      " |    |     |    |        ________|_____    \n",
      " A  young   .    a      and            life\n",
      "\n",
      "None\n",
      "                   woman                        \n",
      "  ___________________|__________________         \n",
      " |   |        |                       towed     \n",
      " |   |        |                    _____|____    \n",
      " |   |        in                  |     |    by \n",
      " |   |        |                   |     |    |   \n",
      " |   |       skis                 |     |   boat\n",
      " |   |    ____|_____________      |     |    |   \n",
      " A   .   a  bikini riding water while being  a  \n",
      "\n",
      "None\n"
     ]
    }
   ],
   "source": [
    "for c in captions:\n",
    "    for sent in c.sents:\n",
    "        print(to_nltk_tree(sent.root).pretty_print())"
   ]
  },
  {
   "cell_type": "code",
   "execution_count": null,
   "metadata": {},
   "outputs": [],
   "source": []
  },
  {
   "cell_type": "code",
   "execution_count": 67,
   "metadata": {},
   "outputs": [
    {
     "name": "stdout",
     "output_type": "stream",
     "text": [
      "352211\n",
      "['woman', 'water', 'bikini', 'ski', 'lake', 'lady', 'waterski', 'vest', 'life', 'jacket', 'waterskiing', 'boat', 'skiing']\n",
      "['A woman on waterskis is towed across a lake. ', 'A young lady rides water skis on a lake', 'A woman in a blue vest is water skiing', 'A young woman in a bikini and life jacket waterskiing.', 'A woman in a bikini riding water skis while being towed by a boat.']\n",
      "\n",
      "123117\n",
      "['man', 'tie', 'box', 'person', 'dress', 'shirt', 'neck', 'head']\n",
      "['a man goofing around with a tie in a box', 'A person holding a tie in a box on his neck.', 'A man in a dress shirt holding a tie.', 'A man posing with a box he is holding up by his head', 'A man with a tie in a box.']\n",
      "\n",
      "37358\n",
      "['statue', 'horse', 'building', 'silhouette', 'sculpture', 'traffic', 'signal', 'man', 'middle', 'intersection', 'row', 'city', 'horseback', 'background']\n",
      "['A sculpture of a man on a horse.', 'The statue is in the middle of the city. ', 'The silhouette of a horse is elevated near a row of tall buildings.', 'A statue thats next to an busy intersection with some buildings in the background. ', 'Looking up at traffic signals and a statue of an Indian on horseback.']\n",
      "\n",
      "246706\n",
      "['carrot', 'plate', 'chip', 'dip', 'salsa', 'cracker', 'tray', 'tortilla', 'nachos', 'snack', 'food', 'tofu']\n",
      "['Carrots, crackers and chips resting on a plate.', 'A plate containing tortilla chips, salsa, carrots and dip.', 'A plate with carrots with dip and nachos with dip and other snack foods.', 'A plate holds crackers, chips and salsa, and carrots.', 'a tray of chips with salsa, carrots with dip and tofu']\n",
      "\n",
      "141874\n",
      "['elephant', 'man', 'girl', 'trunk', 'shirt', 'front', 'family', 'daughter']\n",
      "['A man in a checkered shirt is holding up his daughter so she can pet the elephant.', 'A little girl and her family petting an elephant.', 'A man holding a little girl up so she can touch the elephant trunk.', 'A little girl is petting the trunk of an elephant.', 'A man standing in front of an elephant.']\n",
      "\n",
      "49199\n",
      "['room', 'clothe', 'suitcase', 'equipment', 'living', 'apartment', 'luggage', 'duffle', 'middle', 'bag', 'exercise', 'box', 'sport', 'backpack', 'travel', 'basketball']\n",
      "['Messy apartment in the middle of packing for travel.', 'This room is full of clothes and backpacks.', 'A room full of suitcases, duffle bags, clothes, boxes, and a basketball.', 'The room is full of suitcases, clothes, and sports equipment.', 'A living room with luggage, exercise equipment, clothes, etc. ']\n",
      "\n",
      "242979\n",
      "['truck', 'road', 'couple', 'man', 'wheeler', 'diesel']\n",
      "['Two white trucks parked next to each other. ', 'a couple of diesel trucks are parked next to each other ', 'Two eighteen wheeler trucks parked next to each other.', 'A man standing on the road between two parked trucks.', 'Two trucks are on the road sitting next to each other.']\n",
      "\n",
      "394817\n",
      "['toilet', 'bathroom', 'view', 'seat', 'wall', 'garbage', 'dustbin', 'stall']\n",
      "['A white toilet witting up against a wall in a bathroom stall.', 'a well cleaned toilet and a dustbin besides', 'A close up llok down into a very dirty looking toilet.', 'A top view of a toilet and small garbage in a bathroom.', 'a white toilet seat on a small toilet']\n",
      "\n",
      "555520\n",
      "['sheep', 'grazing', 'bird', 'image', 'baby', 'back', 'grass', 'one', 'farm', 'field', 'fence']\n",
      "['This is an image of three sheep in a field', 'aa big sheep and some baby sheep standing by a fence', 'A large dark sheep stands with two young ones.', '3 sheep grazing in the grass on a farm', 'A sheep with a bird on its back standing next to two small sheep.']\n",
      "\n",
      "218578\n",
      "['sign', 'street', 'pole', 'tree', 'way', 'road', 'city', 'sidewalk']\n",
      "['A light pole displays a sign that says, begin one way.', 'A road sign stands on a pole near a small tree.', 'A sign on a tree saying \"Begin One Way\" on a sidewalk.', 'There is a sign on the street that says Begin One Way. ', 'a street sign on a pole on a city street near a tree ']\n",
      "\n"
     ]
    }
   ],
   "source": [
    "for k in list(data['train2014'].keys())[:10]:\n",
    "    print(k)\n",
    "    print(data['train2014'][k][\"tags\"])\n",
    "    print(data['train2014'][k][\"captions\"])\n",
    "    print(\"\")"
   ]
  }
 ],
 "metadata": {
  "kernelspec": {
   "display_name": "Python 3",
   "language": "python",
   "name": "python3"
  },
  "language_info": {
   "codemirror_mode": {
    "name": "ipython",
    "version": 3
   },
   "file_extension": ".py",
   "mimetype": "text/x-python",
   "name": "python",
   "nbconvert_exporter": "python",
   "pygments_lexer": "ipython3",
   "version": "3.5.2"
  }
 },
 "nbformat": 4,
 "nbformat_minor": 2
}
