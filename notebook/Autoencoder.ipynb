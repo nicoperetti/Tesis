{
 "cells": [
  {
   "cell_type": "code",
   "execution_count": 2,
   "metadata": {},
   "outputs": [
    {
     "name": "stderr",
     "output_type": "stream",
     "text": [
      "Using TensorFlow backend.\n"
     ]
    }
   ],
   "source": [
    "import json\n",
    "import sys\n",
    "import os\n",
    "from os.path import splitext, join, exists\n",
    "import scipy.io as sio\n",
    "import numpy as np\n",
    "import keras\n",
    "from keras.losses import mean_squared_error"
   ]
  },
  {
   "cell_type": "markdown",
   "metadata": {},
   "source": [
    "## Data Generator"
   ]
  },
  {
   "cell_type": "code",
   "execution_count": 3,
   "metadata": {},
   "outputs": [],
   "source": [
    "def load(filename):\n",
    "    return sio.loadmat(filename, appendmat=False, squeeze_me=True)['data']\n",
    "\n",
    "def normalize_rows(mat, ord=2):\n",
    "    ''' return a row normalized matrix\n",
    "    '''\n",
    "    assert mat.ndim == 2\n",
    "    norms = zeros_to_eps(np.linalg.norm(mat, ord=ord, axis=1))\n",
    "    return mat / norms.reshape(-1, 1)\n",
    "\n",
    "def zeros_to_eps(mat):\n",
    "    ''' replace zeros in a matrix by a tiny constant\n",
    "    '''\n",
    "    mat[np.isclose(mat, 0.)] = np.finfo(mat.dtype).eps\n",
    "    return mat"
   ]
  },
  {
   "cell_type": "code",
   "execution_count": 4,
   "metadata": {},
   "outputs": [],
   "source": [
    "# https://stanford.edu/~shervine/blog/keras-how-to-generate-data-on-the-fly\n",
    "class DataGenerator(keras.utils.Sequence):\n",
    "    'Generates data for Keras'\n",
    "    def __init__(self, list_IDs, anno, vecs, set_, shuffle=True):\n",
    "        'Initialization'\n",
    "        self.anno = anno\n",
    "        self.vecs = vecs\n",
    "        self.batch_size = 1\n",
    "        self.list_IDs = list_IDs\n",
    "        self.shuffle = shuffle\n",
    "        self.set_ = set_\n",
    "        self.dim_img = 4096\n",
    "        self.dim_word = 300\n",
    "        self.on_epoch_end()\n",
    "\n",
    "    def __len__(self):\n",
    "        'Denotes the number of batches per epoch'\n",
    "        return int(np.floor(len(self.list_IDs) / self.batch_size))\n",
    "\n",
    "    def __getitem__(self, index):\n",
    "        'Generate one batch of data'\n",
    "        # Generate indexes of the batch\n",
    "        indexes = self.indexes[index*self.batch_size:(index+1)*self.batch_size]\n",
    "\n",
    "        # Find list of IDs\n",
    "        list_IDs_temp = [self.list_IDs[k] for k in indexes]\n",
    "\n",
    "        # Generate data\n",
    "        X, y = self.__data_generation(list_IDs_temp)\n",
    "\n",
    "        return X, y\n",
    "\n",
    "    def on_epoch_end(self):\n",
    "        'Updates indexes after each epoch'\n",
    "        self.indexes = np.arange(len(self.list_IDs))\n",
    "        if self.shuffle == True:\n",
    "            np.random.shuffle(self.indexes)\n",
    "\n",
    "    def __data_generation(self, list_IDs_temp):\n",
    "        'Generates data containing batch_size samples' # X : (n_samples, *dim, n_channels)\n",
    "\n",
    "        ID = list_IDs_temp[0]\n",
    "        fname_x = splitext(self.anno[self.set_][ID][\"file_name\"])[0] + \".dat\"\n",
    "        #x = load(join(\"data/\", self.set_, fname_x))\n",
    "        x = load(join(\"/media/nico/DATOS/COCO/vgg19\", self.set_, fname_x))\n",
    "\n",
    "        tags = self.anno[self.set_][ID][\"tags\"]\n",
    "        y = [[0]*self.dim_word if self.vecs[w] is None else self.vecs[w] for w in tags]\n",
    "        y = normalize_rows(np.array(y, dtype=np.float32))\n",
    "\n",
    "        X = np.empty((len(y), self.dim_img))\n",
    "        Y = np.empty((len(y), self.dim_word))\n",
    "\n",
    "        # Generate data\n",
    "        for i, y_elem in enumerate(y):\n",
    "            # Initialization            \n",
    "            X[i,] = x\n",
    "            Y[i,] = y_elem\n",
    "        return [X, Y], [X, Y]"
   ]
  },
  {
   "cell_type": "code",
   "execution_count": 5,
   "metadata": {},
   "outputs": [],
   "source": [
    "anno = json.load(open(\"../data/coco_noun_0.5.tags\", 'r'))\n",
    "vecs = json.load(open(\"../data/coco_noun_0.5.word2vec\", 'r'))"
   ]
  },
  {
   "cell_type": "code",
   "execution_count": 6,
   "metadata": {},
   "outputs": [],
   "source": [
    "train_list_ids = list(anno[\"train2014\"].keys())\n",
    "val_list_ids = list(anno[\"val2014\"].keys())"
   ]
  },
  {
   "cell_type": "code",
   "execution_count": 7,
   "metadata": {},
   "outputs": [],
   "source": [
    "training_generator = DataGenerator(train_list_ids, anno, vecs, \"train2014\")\n",
    "val_generator = DataGenerator(val_list_ids, anno, vecs, \"val2014\", shuffle=False)"
   ]
  },
  {
   "cell_type": "code",
   "execution_count": 8,
   "metadata": {},
   "outputs": [],
   "source": [
    "x = load(join(\"../data/\", \"train2014\", \"COCO_train2014_000000111189.dat\"))\n",
    "x = normalize_rows(x.reshape(1, -1)).squeeze()\n",
    "n_dim = len(x)\n",
    "tags = anno[\"train2014\"][\"111189\"][\"tags\"]\n",
    "y = [[0]*vec_dim if vecs[w] is None else vecs[w] for w in tags]\n",
    "y = normalize_rows(np.array(y, dtype=np.float32))"
   ]
  },
  {
   "cell_type": "code",
   "execution_count": 9,
   "metadata": {},
   "outputs": [
    {
     "data": {
      "text/plain": [
       "((4096,), (300,))"
      ]
     },
     "execution_count": 9,
     "metadata": {},
     "output_type": "execute_result"
    }
   ],
   "source": [
    "x.shape, y[0].shape"
   ]
  },
  {
   "cell_type": "markdown",
   "metadata": {},
   "source": [
    "## Model"
   ]
  },
  {
   "cell_type": "code",
   "execution_count": 10,
   "metadata": {},
   "outputs": [],
   "source": [
    "from keras.layers import Input, Dense\n",
    "from keras.models import Model\n",
    "from keras.layers import Concatenate"
   ]
  },
  {
   "cell_type": "code",
   "execution_count": 11,
   "metadata": {},
   "outputs": [
    {
     "name": "stdout",
     "output_type": "stream",
     "text": [
      "WARNING:tensorflow:From /home/nico/.virtualenvs/tesis/lib/python3.5/site-packages/tensorflow/python/ops/resource_variable_ops.py:435: colocate_with (from tensorflow.python.framework.ops) is deprecated and will be removed in a future version.\n",
      "Instructions for updating:\n",
      "Colocations handled automatically by placer.\n"
     ]
    }
   ],
   "source": [
    "# https://blog.keras.io/building-autoencoders-in-keras.html\n",
    "# this is the size of our encoded representations\n",
    "encoding_dim = 200  # 32 floats -> compression of factor 24.5, assuming the input is 784 floats\n",
    "\n",
    "# Inputs\n",
    "input_x = Input(shape=(4096,),name=\"input_img\")\n",
    "input_y = Input(shape=(300,),name=\"input_text\")\n",
    "\n",
    "fc1 = Dense(300, activation='relu', name=\"fc1\")(input_x)\n",
    "\n",
    "# \"encoded\" is the encoded representation of the input\n",
    "fc_share = Dense(300, activation='relu', name=\"fc_share\")\n",
    "\n",
    "share_img = fc_share(fc1)\n",
    "share_word = fc_share(input_y)\n",
    "concat = Concatenate(name=\"concat\")([share_img, share_word])\n",
    "encoded = Dense(encoding_dim, activation='relu', name=\"encoded\")(concat)\n",
    "\n",
    "# \"decoded\" is the lossy reconstruction of the input\n",
    "decoded1 = Dense(4096,name=\"fc2\")(encoded)\n",
    "decoded2 = Dense(300,name=\"fc3\")(encoded)\n",
    "\n",
    "# this model maps an input to its reconstruction\n",
    "autoencoder = Model([input_x, input_y], [decoded1, decoded2])\n",
    "\n",
    "# this model maps an input to its encoded representation\n",
    "encoder = Model([input_x, input_y], encoded)"
   ]
  },
  {
   "cell_type": "code",
   "execution_count": 13,
   "metadata": {},
   "outputs": [],
   "source": [
    "r = autoencoder.predict([x.reshape(1,-1), y[0].reshape(1,-1)])\n",
    "r1 = encoder.predict([x.reshape(1,-1), y[0].reshape(1,-1)])"
   ]
  },
  {
   "cell_type": "code",
   "execution_count": 17,
   "metadata": {},
   "outputs": [],
   "source": [
    "autoencoder.save_weights(\"model_autoencoder\")"
   ]
  },
  {
   "cell_type": "code",
   "execution_count": 12,
   "metadata": {},
   "outputs": [
    {
     "name": "stdout",
     "output_type": "stream",
     "text": [
      "Model: \"model_1\"\n",
      "__________________________________________________________________________________________________\n",
      "Layer (type)                    Output Shape         Param #     Connected to                     \n",
      "==================================================================================================\n",
      "input_img (InputLayer)          (None, 4096)         0                                            \n",
      "__________________________________________________________________________________________________\n",
      "fc1 (Dense)                     (None, 300)          1229100     input_img[0][0]                  \n",
      "__________________________________________________________________________________________________\n",
      "input_text (InputLayer)         (None, 300)          0                                            \n",
      "__________________________________________________________________________________________________\n",
      "fc_share (Dense)                (None, 300)          90300       fc1[0][0]                        \n",
      "                                                                 input_text[0][0]                 \n",
      "__________________________________________________________________________________________________\n",
      "concat (Concatenate)            (None, 600)          0           fc_share[0][0]                   \n",
      "                                                                 fc_share[1][0]                   \n",
      "__________________________________________________________________________________________________\n",
      "encoded (Dense)                 (None, 200)          120200      concat[0][0]                     \n",
      "__________________________________________________________________________________________________\n",
      "fc2 (Dense)                     (None, 4096)         823296      encoded[0][0]                    \n",
      "__________________________________________________________________________________________________\n",
      "fc3 (Dense)                     (None, 300)          60300       encoded[0][0]                    \n",
      "==================================================================================================\n",
      "Total params: 2,323,196\n",
      "Trainable params: 2,323,196\n",
      "Non-trainable params: 0\n",
      "__________________________________________________________________________________________________\n"
     ]
    }
   ],
   "source": [
    "autoencoder.summary()"
   ]
  },
  {
   "cell_type": "code",
   "execution_count": 14,
   "metadata": {},
   "outputs": [
    {
     "data": {
      "text/plain": [
       "(1, 300)"
      ]
     },
     "execution_count": 14,
     "metadata": {},
     "output_type": "execute_result"
    }
   ],
   "source": [
    "r[0].shape\n",
    "r[1].shape"
   ]
  },
  {
   "cell_type": "code",
   "execution_count": 13,
   "metadata": {},
   "outputs": [],
   "source": [
    "def mean_square_error_bis(y_true, y_pred):\n",
    "    y_true_img = y_true[:,0]  # shape (4096,)\n",
    "    y_true_word = y_true[:,1] # shape (300,)\n",
    "    y_pred_img = y_pred[:,0]  # shape (4096,)\n",
    "    y_pred_word = y_pred[:,1] # shape (300,)\n",
    "    return mean_squared_error(y_true_img, y_pred_img) + mean_squared_error(y_true_word, y_pred_word)"
   ]
  },
  {
   "cell_type": "code",
   "execution_count": 14,
   "metadata": {},
   "outputs": [
    {
     "name": "stdout",
     "output_type": "stream",
     "text": [
      "WARNING:tensorflow:From /home/nico/.virtualenvs/tesis/lib/python3.5/site-packages/tensorflow/python/ops/math_ops.py:3066: to_int32 (from tensorflow.python.ops.math_ops) is deprecated and will be removed in a future version.\n",
      "Instructions for updating:\n",
      "Use tf.cast instead.\n",
      "Epoch 1/1\n",
      "82783/82783 [==============================] - 2149s 26ms/step - loss: 1.0478e-04 - fc2_loss: 7.8223e-05 - fc3_loss: 2.6554e-05 - val_loss: 9.0936e-05 - val_fc2_loss: 5.6554e-05 - val_fc3_loss: 4.7718e-06\n"
     ]
    }
   ],
   "source": [
    "autoencoder.compile(loss=mean_square_error_bis, optimizer='adam')\n",
    "his = autoencoder.fit_generator(generator=training_generator,\n",
    "                                epochs=1,\n",
    "                                validation_data=val_generator)"
   ]
  },
  {
   "cell_type": "markdown",
   "metadata": {},
   "source": [
    "# Encoder"
   ]
  },
  {
   "cell_type": "code",
   "execution_count": 63,
   "metadata": {},
   "outputs": [],
   "source": [
    "encoder = Model([input_x, input_y], autoencoder.get_layer('encoded').output)"
   ]
  },
  {
   "cell_type": "code",
   "execution_count": 64,
   "metadata": {},
   "outputs": [
    {
     "name": "stdout",
     "output_type": "stream",
     "text": [
      "Model: \"model_6\"\n",
      "__________________________________________________________________________________________________\n",
      "Layer (type)                    Output Shape         Param #     Connected to                     \n",
      "==================================================================================================\n",
      "input_img (InputLayer)          (None, 4096)         0                                            \n",
      "__________________________________________________________________________________________________\n",
      "fc1 (Dense)                     (None, 300)          1229100     input_img[0][0]                  \n",
      "__________________________________________________________________________________________________\n",
      "input_text (InputLayer)         (None, 300)          0                                            \n",
      "__________________________________________________________________________________________________\n",
      "fc_share (Dense)                (None, 300)          90300       fc1[0][0]                        \n",
      "                                                                 input_text[0][0]                 \n",
      "__________________________________________________________________________________________________\n",
      "concat (Concatenate)            (None, 600)          0           fc_share[0][0]                   \n",
      "                                                                 fc_share[1][0]                   \n",
      "__________________________________________________________________________________________________\n",
      "encoded (Dense)                 (None, 200)          120200      concat[0][0]                     \n",
      "==================================================================================================\n",
      "Total params: 1,439,600\n",
      "Trainable params: 1,439,600\n",
      "Non-trainable params: 0\n",
      "__________________________________________________________________________________________________\n"
     ]
    }
   ],
   "source": [
    "encoder.summary()"
   ]
  },
  {
   "cell_type": "code",
   "execution_count": 23,
   "metadata": {},
   "outputs": [
    {
     "name": "stderr",
     "output_type": "stream",
     "text": [
      "/home/nico/.virtualenvs/tesis/lib/python3.5/site-packages/ipykernel_launcher.py:1: UserWarning: Update your `Model` call to the Keras 2 API: `Model(outputs=Tensor(\"fc..., inputs=Tensor(\"in...)`\n",
      "  \"\"\"Entry point for launching an IPython kernel.\n"
     ]
    },
    {
     "data": {
      "text/plain": [
       "(1, 300)"
      ]
     },
     "execution_count": 23,
     "metadata": {},
     "output_type": "execute_result"
    }
   ],
   "source": [
    "m1 = Model(input=input_x, output=share_img)\n",
    "m1.predict(x.reshape(1,-1)).shape"
   ]
  },
  {
   "cell_type": "code",
   "execution_count": 24,
   "metadata": {},
   "outputs": [
    {
     "name": "stderr",
     "output_type": "stream",
     "text": [
      "/home/nico/.virtualenvs/tesis/lib/python3.5/site-packages/ipykernel_launcher.py:1: UserWarning: Update your `Model` call to the Keras 2 API: `Model(outputs=Tensor(\"fc..., inputs=Tensor(\"in...)`\n",
      "  \"\"\"Entry point for launching an IPython kernel.\n"
     ]
    },
    {
     "data": {
      "text/plain": [
       "(1, 300)"
      ]
     },
     "execution_count": 24,
     "metadata": {},
     "output_type": "execute_result"
    }
   ],
   "source": [
    "m2 = Model(input=input_y, output=share_word)\n",
    "m2.predict(y[0].reshape(1,-1)).shape"
   ]
  },
  {
   "cell_type": "code",
   "execution_count": null,
   "metadata": {},
   "outputs": [],
   "source": [
    "def mean_square_error_2_head(y_true, y_pred):\n",
    "    y_true_img = y_true[:,0]  # shape (4096,)\n",
    "    y_true_word = y_true[:,1] # shape (300,)\n",
    "    y_pred_img = y_pred[:,0]  # shape (4096,)\n",
    "    y_pred_word = y_pred[:,1] # shape (300,)\n",
    "    return mean_squared_error(y_true_img, y_pred_img) + mean_squared_error(y_true_word, y_pred_word)"
   ]
  },
  {
   "cell_type": "code",
   "execution_count": 29,
   "metadata": {},
   "outputs": [
    {
     "name": "stdout",
     "output_type": "stream",
     "text": [
      "Autoencoder.ipynb  model  pytorch.ipynb\r\n"
     ]
    }
   ],
   "source": [
    "ls"
   ]
  },
  {
   "cell_type": "code",
   "execution_count": 18,
   "metadata": {},
   "outputs": [
    {
     "data": {
      "text/plain": [
       "{'fc2_loss': [7.822301e-05],\n",
       " 'fc3_loss': [2.6554415e-05],\n",
       " 'loss': [0.00010229377667907386],\n",
       " 'val_fc2_loss': [5.655377026414499e-05],\n",
       " 'val_fc3_loss': [4.771835847350303e-06],\n",
       " 'val_loss': [9.093570406548679e-05]}"
      ]
     },
     "execution_count": 18,
     "metadata": {},
     "output_type": "execute_result"
    }
   ],
   "source": [
    "his.history"
   ]
  },
  {
   "cell_type": "code",
   "execution_count": 19,
   "metadata": {},
   "outputs": [
    {
     "name": "stdout",
     "output_type": "stream",
     "text": [
      "Model: \"model_1\"\n",
      "__________________________________________________________________________________________________\n",
      "Layer (type)                    Output Shape         Param #     Connected to                     \n",
      "==================================================================================================\n",
      "input_img (InputLayer)          (None, 4096)         0                                            \n",
      "__________________________________________________________________________________________________\n",
      "fc1 (Dense)                     (None, 300)          1229100     input_img[0][0]                  \n",
      "__________________________________________________________________________________________________\n",
      "input_text (InputLayer)         (None, 300)          0                                            \n",
      "__________________________________________________________________________________________________\n",
      "fc_share (Dense)                (None, 300)          90300       fc1[0][0]                        \n",
      "                                                                 input_text[0][0]                 \n",
      "__________________________________________________________________________________________________\n",
      "concat (Concatenate)            (None, 600)          0           fc_share[0][0]                   \n",
      "                                                                 fc_share[1][0]                   \n",
      "__________________________________________________________________________________________________\n",
      "encoded (Dense)                 (None, 200)          120200      concat[0][0]                     \n",
      "__________________________________________________________________________________________________\n",
      "fc2 (Dense)                     (None, 4096)         823296      encoded[0][0]                    \n",
      "__________________________________________________________________________________________________\n",
      "fc3 (Dense)                     (None, 300)          60300       encoded[0][0]                    \n",
      "==================================================================================================\n",
      "Total params: 2,323,196\n",
      "Trainable params: 2,323,196\n",
      "Non-trainable params: 0\n",
      "__________________________________________________________________________________________________\n"
     ]
    }
   ],
   "source": [
    "autoencoder.summary()"
   ]
  },
  {
   "cell_type": "code",
   "execution_count": null,
   "metadata": {},
   "outputs": [],
   "source": []
  }
 ],
 "metadata": {
  "kernelspec": {
   "display_name": "Python 3",
   "language": "python",
   "name": "python3"
  },
  "language_info": {
   "codemirror_mode": {
    "name": "ipython",
    "version": 3
   },
   "file_extension": ".py",
   "mimetype": "text/x-python",
   "name": "python",
   "nbconvert_exporter": "python",
   "pygments_lexer": "ipython3",
   "version": "3.5.2"
  }
 },
 "nbformat": 4,
 "nbformat_minor": 2
}
